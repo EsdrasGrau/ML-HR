{
 "cells": [
  {
   "cell_type": "markdown",
   "metadata": {},
   "source": [
    "# Web-scrapping to get weather information 2019-2020"
   ]
  },
  {
   "cell_type": "code",
   "execution_count": 1,
   "metadata": {},
   "outputs": [],
   "source": [
    "import os\n",
    "import numpy as np\n",
    "import pandas as pd\n",
    "import matplotlib.pyplot as plt\n",
    "import seaborn as sns\n",
    "from bs4 import BeautifulSoup\n",
    "import requests\n",
    "from datetime import datetime, timedelta"
   ]
  },
  {
   "cell_type": "code",
   "execution_count": 2,
   "metadata": {},
   "outputs": [],
   "source": [
    "url_template = 'https://tenki.jp/past/{}/{:02d}/{:02d}/weather/3/23/'"
   ]
  },
  {
   "cell_type": "code",
   "execution_count": 3,
   "metadata": {},
   "outputs": [],
   "source": [
    "#URL to get the data on 2019/1/1\n",
    "url = url_template.format(2018, 4, 26) \n",
    "html_doc = requests.get(url).text"
   ]
  },
  {
   "cell_type": "code",
   "execution_count": 4,
   "metadata": {},
   "outputs": [],
   "source": [
    "#soup.prettify()\n",
    "soup = BeautifulSoup(html_doc)"
   ]
  },
  {
   "cell_type": "code",
   "execution_count": 5,
   "metadata": {},
   "outputs": [],
   "source": [
    "table = soup.find(lambda tag: tag.name == 'table' and 'past-live-area-pref-list-entries' in tag\n",
    "                 ['class'])"
   ]
  },
  {
   "cell_type": "code",
   "execution_count": 6,
   "metadata": {},
   "outputs": [],
   "source": [
    "df = pd.read_html(str(table), na_values=['---'], header=0)[0]"
   ]
  },
  {
   "cell_type": "code",
   "execution_count": 7,
   "metadata": {},
   "outputs": [
    {
     "data": {
      "text/html": [
       "<div>\n",
       "<style scoped>\n",
       "    .dataframe tbody tr th:only-of-type {\n",
       "        vertical-align: middle;\n",
       "    }\n",
       "\n",
       "    .dataframe tbody tr th {\n",
       "        vertical-align: top;\n",
       "    }\n",
       "\n",
       "    .dataframe thead th {\n",
       "        text-align: right;\n",
       "    }\n",
       "</style>\n",
       "<table border=\"1\" class=\"dataframe\">\n",
       "  <thead>\n",
       "    <tr style=\"text-align: right;\">\n",
       "      <th></th>\n",
       "      <th>地点名</th>\n",
       "      <th>天気</th>\n",
       "      <th>天気.1</th>\n",
       "      <th>最高気温</th>\n",
       "      <th>最低気温</th>\n",
       "      <th>日積算降水量(mm)</th>\n",
       "      <th>日の出</th>\n",
       "      <th>日の入</th>\n",
       "    </tr>\n",
       "  </thead>\n",
       "  <tbody>\n",
       "    <tr>\n",
       "      <th>0</th>\n",
       "      <td>長野</td>\n",
       "      <td>NaN</td>\n",
       "      <td>雨のち晴</td>\n",
       "      <td>20.8℃</td>\n",
       "      <td>8.1℃</td>\n",
       "      <td>0.0mm</td>\n",
       "      <td>05:00</td>\n",
       "      <td>18:31</td>\n",
       "    </tr>\n",
       "    <tr>\n",
       "      <th>1</th>\n",
       "      <td>松本</td>\n",
       "      <td>NaN</td>\n",
       "      <td>不明</td>\n",
       "      <td>21.6℃</td>\n",
       "      <td>8.7℃</td>\n",
       "      <td>0.0mm</td>\n",
       "      <td>05:01</td>\n",
       "      <td>18:31</td>\n",
       "    </tr>\n",
       "    <tr>\n",
       "      <th>2</th>\n",
       "      <td>諏訪</td>\n",
       "      <td>NaN</td>\n",
       "      <td>不明</td>\n",
       "      <td>19.4℃</td>\n",
       "      <td>8.1℃</td>\n",
       "      <td>0.0mm</td>\n",
       "      <td>NaN</td>\n",
       "      <td>NaN</td>\n",
       "    </tr>\n",
       "    <tr>\n",
       "      <th>3</th>\n",
       "      <td>飯田</td>\n",
       "      <td>NaN</td>\n",
       "      <td>不明</td>\n",
       "      <td>23.5℃</td>\n",
       "      <td>8.8℃</td>\n",
       "      <td>0.0mm</td>\n",
       "      <td>NaN</td>\n",
       "      <td>NaN</td>\n",
       "    </tr>\n",
       "    <tr>\n",
       "      <th>4</th>\n",
       "      <td>軽井沢</td>\n",
       "      <td>NaN</td>\n",
       "      <td>不明</td>\n",
       "      <td>17.7℃</td>\n",
       "      <td>4.2℃</td>\n",
       "      <td>0.0mm</td>\n",
       "      <td>NaN</td>\n",
       "      <td>NaN</td>\n",
       "    </tr>\n",
       "  </tbody>\n",
       "</table>\n",
       "</div>"
      ],
      "text/plain": [
       "   地点名  天気  天気.1   最高気温  最低気温 日積算降水量(mm)    日の出    日の入\n",
       "0   長野 NaN  雨のち晴  20.8℃  8.1℃      0.0mm  05:00  18:31\n",
       "1   松本 NaN    不明  21.6℃  8.7℃      0.0mm  05:01  18:31\n",
       "2   諏訪 NaN    不明  19.4℃  8.1℃      0.0mm    NaN    NaN\n",
       "3   飯田 NaN    不明  23.5℃  8.8℃      0.0mm    NaN    NaN\n",
       "4  軽井沢 NaN    不明  17.7℃  4.2℃      0.0mm    NaN    NaN"
      ]
     },
     "execution_count": 7,
     "metadata": {},
     "output_type": "execute_result"
    }
   ],
   "source": [
    "#checking\n",
    "df "
   ]
  },
  {
   "cell_type": "code",
   "execution_count": 8,
   "metadata": {},
   "outputs": [],
   "source": [
    "# renaming columns, assigning format\n",
    "df.drop(df.shape[0] - 1, inplace =True)\n",
    "df.columns = ['city', 'weather', 'weather1', 'max_temp', 'min_temp', 'rain', 'sunrise', \n",
    "              'sunset']\n",
    "df['date'] = pd.to_datetime('{}/{}/{}'.format(2018, 4, 26))"
   ]
  },
  {
   "cell_type": "code",
   "execution_count": 9,
   "metadata": {},
   "outputs": [
    {
     "data": {
      "text/html": [
       "<div>\n",
       "<style scoped>\n",
       "    .dataframe tbody tr th:only-of-type {\n",
       "        vertical-align: middle;\n",
       "    }\n",
       "\n",
       "    .dataframe tbody tr th {\n",
       "        vertical-align: top;\n",
       "    }\n",
       "\n",
       "    .dataframe thead th {\n",
       "        text-align: right;\n",
       "    }\n",
       "</style>\n",
       "<table border=\"1\" class=\"dataframe\">\n",
       "  <thead>\n",
       "    <tr style=\"text-align: right;\">\n",
       "      <th></th>\n",
       "      <th>city</th>\n",
       "      <th>weather</th>\n",
       "      <th>weather1</th>\n",
       "      <th>max_temp</th>\n",
       "      <th>min_temp</th>\n",
       "      <th>rain</th>\n",
       "      <th>sunrise</th>\n",
       "      <th>sunset</th>\n",
       "      <th>date</th>\n",
       "    </tr>\n",
       "  </thead>\n",
       "  <tbody>\n",
       "    <tr>\n",
       "      <th>0</th>\n",
       "      <td>長野</td>\n",
       "      <td>NaN</td>\n",
       "      <td>雨のち晴</td>\n",
       "      <td>20.8℃</td>\n",
       "      <td>8.1℃</td>\n",
       "      <td>0.0mm</td>\n",
       "      <td>05:00</td>\n",
       "      <td>18:31</td>\n",
       "      <td>2018-04-26</td>\n",
       "    </tr>\n",
       "    <tr>\n",
       "      <th>1</th>\n",
       "      <td>松本</td>\n",
       "      <td>NaN</td>\n",
       "      <td>不明</td>\n",
       "      <td>21.6℃</td>\n",
       "      <td>8.7℃</td>\n",
       "      <td>0.0mm</td>\n",
       "      <td>05:01</td>\n",
       "      <td>18:31</td>\n",
       "      <td>2018-04-26</td>\n",
       "    </tr>\n",
       "    <tr>\n",
       "      <th>2</th>\n",
       "      <td>諏訪</td>\n",
       "      <td>NaN</td>\n",
       "      <td>不明</td>\n",
       "      <td>19.4℃</td>\n",
       "      <td>8.1℃</td>\n",
       "      <td>0.0mm</td>\n",
       "      <td>NaN</td>\n",
       "      <td>NaN</td>\n",
       "      <td>2018-04-26</td>\n",
       "    </tr>\n",
       "    <tr>\n",
       "      <th>3</th>\n",
       "      <td>飯田</td>\n",
       "      <td>NaN</td>\n",
       "      <td>不明</td>\n",
       "      <td>23.5℃</td>\n",
       "      <td>8.8℃</td>\n",
       "      <td>0.0mm</td>\n",
       "      <td>NaN</td>\n",
       "      <td>NaN</td>\n",
       "      <td>2018-04-26</td>\n",
       "    </tr>\n",
       "  </tbody>\n",
       "</table>\n",
       "</div>"
      ],
      "text/plain": [
       "  city  weather weather1 max_temp min_temp   rain sunrise sunset       date\n",
       "0   長野      NaN     雨のち晴    20.8℃     8.1℃  0.0mm   05:00  18:31 2018-04-26\n",
       "1   松本      NaN       不明    21.6℃     8.7℃  0.0mm   05:01  18:31 2018-04-26\n",
       "2   諏訪      NaN       不明    19.4℃     8.1℃  0.0mm     NaN    NaN 2018-04-26\n",
       "3   飯田      NaN       不明    23.5℃     8.8℃  0.0mm     NaN    NaN 2018-04-26"
      ]
     },
     "execution_count": 9,
     "metadata": {},
     "output_type": "execute_result"
    }
   ],
   "source": [
    "#to check how is going\n",
    "df "
   ]
  },
  {
   "cell_type": "code",
   "execution_count": 10,
   "metadata": {},
   "outputs": [],
   "source": [
    "# Automation\n",
    "def get_weather_for_one_day(year, month, day):\n",
    "    url = url_template.format(year, month, day)\n",
    "    html_doc = requests.get(url).text\n",
    "    soup = BeautifulSoup(html_doc)\n",
    "    table = soup.find(lambda tag: tag.name == 'table' and 'past-live-area-pref-list-entries'\n",
    "                     in tag ['class'])\n",
    "    \n",
    "    try:\n",
    "        df = pd.read_html(str(table), na_values=['---'], header=0)[0]\n",
    "    except Exception as e:\n",
    "        print(e)\n",
    "        raise ValueError('No data is available for {}/{:02d}/{:02d}'.format(year, month, day))\n",
    "    df.drop(df.shape[0] - 1, inplace=True)\n",
    "    df.columns = ['city', 'weather', 'weather1', 'max_temp', 'min_temp', 'rain', 'sunrise', \n",
    "              'sunset']\n",
    "    df['date'] = pd.to_datetime('{}/{}/{}'.format(year, month, day))\n",
    "    \n",
    "    return df"
   ]
  },
  {
   "cell_type": "code",
   "execution_count": 11,
   "metadata": {},
   "outputs": [],
   "source": [
    "#to download  the weather data from a specific date\n",
    "def get_weather_from_date(year, month, day):\n",
    "    date = datetime(year, month, day)\n",
    "    today = datetime.utcnow()\n",
    "    df = []\n",
    "    while (today - date).days >= 1:\n",
    "        try:\n",
    "            df.append(get_weather_for_one_day(date.year, date.month, date.day))\n",
    "        except ValueError as e:\n",
    "            print(e)\n",
    "        finally:\n",
    "            date += timedelta (days=1)\n",
    "    return pd.concat(df)"
   ]
  },
  {
   "cell_type": "code",
   "execution_count": 12,
   "metadata": {},
   "outputs": [],
   "source": [
    "# Get all data from 2019 until today\n",
    "df = get_weather_from_date(2018, 4, 26)"
   ]
  },
  {
   "cell_type": "code",
   "execution_count": 13,
   "metadata": {},
   "outputs": [],
   "source": [
    "# Security copy\n",
    "dfc = df.copy"
   ]
  },
  {
   "cell_type": "code",
   "execution_count": 14,
   "metadata": {},
   "outputs": [
    {
     "data": {
      "text/html": [
       "<div>\n",
       "<style scoped>\n",
       "    .dataframe tbody tr th:only-of-type {\n",
       "        vertical-align: middle;\n",
       "    }\n",
       "\n",
       "    .dataframe tbody tr th {\n",
       "        vertical-align: top;\n",
       "    }\n",
       "\n",
       "    .dataframe thead th {\n",
       "        text-align: right;\n",
       "    }\n",
       "</style>\n",
       "<table border=\"1\" class=\"dataframe\">\n",
       "  <thead>\n",
       "    <tr style=\"text-align: right;\">\n",
       "      <th></th>\n",
       "      <th>city</th>\n",
       "      <th>weather</th>\n",
       "      <th>weather1</th>\n",
       "      <th>max_temp</th>\n",
       "      <th>min_temp</th>\n",
       "      <th>rain</th>\n",
       "      <th>sunrise</th>\n",
       "      <th>sunset</th>\n",
       "      <th>date</th>\n",
       "    </tr>\n",
       "  </thead>\n",
       "  <tbody>\n",
       "    <tr>\n",
       "      <th>0</th>\n",
       "      <td>長野</td>\n",
       "      <td>NaN</td>\n",
       "      <td>雨のち晴</td>\n",
       "      <td>20.8℃</td>\n",
       "      <td>8.1℃</td>\n",
       "      <td>0.0mm</td>\n",
       "      <td>05:00</td>\n",
       "      <td>18:31</td>\n",
       "      <td>2018-04-26</td>\n",
       "    </tr>\n",
       "    <tr>\n",
       "      <th>1</th>\n",
       "      <td>松本</td>\n",
       "      <td>NaN</td>\n",
       "      <td>不明</td>\n",
       "      <td>21.6℃</td>\n",
       "      <td>8.7℃</td>\n",
       "      <td>0.0mm</td>\n",
       "      <td>05:01</td>\n",
       "      <td>18:31</td>\n",
       "      <td>2018-04-26</td>\n",
       "    </tr>\n",
       "    <tr>\n",
       "      <th>2</th>\n",
       "      <td>諏訪</td>\n",
       "      <td>NaN</td>\n",
       "      <td>不明</td>\n",
       "      <td>19.4℃</td>\n",
       "      <td>8.1℃</td>\n",
       "      <td>0.0mm</td>\n",
       "      <td>NaN</td>\n",
       "      <td>NaN</td>\n",
       "      <td>2018-04-26</td>\n",
       "    </tr>\n",
       "    <tr>\n",
       "      <th>3</th>\n",
       "      <td>飯田</td>\n",
       "      <td>NaN</td>\n",
       "      <td>不明</td>\n",
       "      <td>23.5℃</td>\n",
       "      <td>8.8℃</td>\n",
       "      <td>0.0mm</td>\n",
       "      <td>NaN</td>\n",
       "      <td>NaN</td>\n",
       "      <td>2018-04-26</td>\n",
       "    </tr>\n",
       "    <tr>\n",
       "      <th>0</th>\n",
       "      <td>長野</td>\n",
       "      <td>NaN</td>\n",
       "      <td>曇のち晴</td>\n",
       "      <td>21.2℃</td>\n",
       "      <td>9.6℃</td>\n",
       "      <td>0.0mm</td>\n",
       "      <td>04:59</td>\n",
       "      <td>18:32</td>\n",
       "      <td>2018-04-27</td>\n",
       "    </tr>\n",
       "    <tr>\n",
       "      <th>...</th>\n",
       "      <td>...</td>\n",
       "      <td>...</td>\n",
       "      <td>...</td>\n",
       "      <td>...</td>\n",
       "      <td>...</td>\n",
       "      <td>...</td>\n",
       "      <td>...</td>\n",
       "      <td>...</td>\n",
       "      <td>...</td>\n",
       "    </tr>\n",
       "    <tr>\n",
       "      <th>3</th>\n",
       "      <td>飯田</td>\n",
       "      <td>NaN</td>\n",
       "      <td>晴</td>\n",
       "      <td>23.2℃</td>\n",
       "      <td>10.7℃</td>\n",
       "      <td>0.0mm</td>\n",
       "      <td>NaN</td>\n",
       "      <td>NaN</td>\n",
       "      <td>2020-05-13</td>\n",
       "    </tr>\n",
       "    <tr>\n",
       "      <th>0</th>\n",
       "      <td>長野</td>\n",
       "      <td>NaN</td>\n",
       "      <td>晴</td>\n",
       "      <td>26.1℃</td>\n",
       "      <td>6.3℃</td>\n",
       "      <td>0.0mm</td>\n",
       "      <td>04:41</td>\n",
       "      <td>18:47</td>\n",
       "      <td>2020-05-14</td>\n",
       "    </tr>\n",
       "    <tr>\n",
       "      <th>1</th>\n",
       "      <td>松本</td>\n",
       "      <td>NaN</td>\n",
       "      <td>晴</td>\n",
       "      <td>26.2℃</td>\n",
       "      <td>6.5℃</td>\n",
       "      <td>0.0mm</td>\n",
       "      <td>04:43</td>\n",
       "      <td>18:47</td>\n",
       "      <td>2020-05-14</td>\n",
       "    </tr>\n",
       "    <tr>\n",
       "      <th>2</th>\n",
       "      <td>諏訪</td>\n",
       "      <td>NaN</td>\n",
       "      <td>晴</td>\n",
       "      <td>23.6℃</td>\n",
       "      <td>5.9℃</td>\n",
       "      <td>0.0mm</td>\n",
       "      <td>NaN</td>\n",
       "      <td>NaN</td>\n",
       "      <td>2020-05-14</td>\n",
       "    </tr>\n",
       "    <tr>\n",
       "      <th>3</th>\n",
       "      <td>飯田</td>\n",
       "      <td>NaN</td>\n",
       "      <td>晴</td>\n",
       "      <td>27.0℃</td>\n",
       "      <td>7.1℃</td>\n",
       "      <td>0.0mm</td>\n",
       "      <td>NaN</td>\n",
       "      <td>NaN</td>\n",
       "      <td>2020-05-14</td>\n",
       "    </tr>\n",
       "  </tbody>\n",
       "</table>\n",
       "<p>3000 rows × 9 columns</p>\n",
       "</div>"
      ],
      "text/plain": [
       "   city  weather weather1 max_temp min_temp   rain sunrise sunset       date\n",
       "0    長野      NaN     雨のち晴    20.8℃     8.1℃  0.0mm   05:00  18:31 2018-04-26\n",
       "1    松本      NaN       不明    21.6℃     8.7℃  0.0mm   05:01  18:31 2018-04-26\n",
       "2    諏訪      NaN       不明    19.4℃     8.1℃  0.0mm     NaN    NaN 2018-04-26\n",
       "3    飯田      NaN       不明    23.5℃     8.8℃  0.0mm     NaN    NaN 2018-04-26\n",
       "0    長野      NaN     曇のち晴    21.2℃     9.6℃  0.0mm   04:59  18:32 2018-04-27\n",
       "..  ...      ...      ...      ...      ...    ...     ...    ...        ...\n",
       "3    飯田      NaN        晴    23.2℃    10.7℃  0.0mm     NaN    NaN 2020-05-13\n",
       "0    長野      NaN        晴    26.1℃     6.3℃  0.0mm   04:41  18:47 2020-05-14\n",
       "1    松本      NaN        晴    26.2℃     6.5℃  0.0mm   04:43  18:47 2020-05-14\n",
       "2    諏訪      NaN        晴    23.6℃     5.9℃  0.0mm     NaN    NaN 2020-05-14\n",
       "3    飯田      NaN        晴    27.0℃     7.1℃  0.0mm     NaN    NaN 2020-05-14\n",
       "\n",
       "[3000 rows x 9 columns]"
      ]
     },
     "execution_count": 14,
     "metadata": {},
     "output_type": "execute_result"
    }
   ],
   "source": [
    "df"
   ]
  },
  {
   "cell_type": "code",
   "execution_count": 31,
   "metadata": {},
   "outputs": [],
   "source": [
    "# General cleaning data \n",
    "def clean_data(df, city_mapping):\n",
    "    df = df.copy()\n",
    "    df.city = df.city.map(city_mapping) \n",
    "    df.weather1 = df.weather1.map(weather1_mapping) \n",
    "    df = df.fillna('Unknown')\n",
    "    df = df.drop(['weather'], axis = 1) \n",
    "    df = df[df.city == 'Matsumoto']\n",
    "    df = df.reset_index(drop=True)\n",
    "    start_date = '2018-04-26'\n",
    "    end_date = '2020-02-29'\n",
    "    mask = (df['date'] >= start_date) & (df['date'] <= end_date)\n",
    "    df = df.loc[mask]\n",
    "    \n",
    "    return df\n"
   ]
  },
  {
   "cell_type": "code",
   "execution_count": 32,
   "metadata": {},
   "outputs": [],
   "source": [
    "# Translate the main cities in Nagano prefecture and weather changes\n",
    "city_mapping = {\n",
    "    '長野': 'Nagano',\n",
    "    '松本': 'Matsumoto',\n",
    "    '諏訪': 'Suwa',\n",
    "    '飯田': 'Iida'\n",
    "}\n",
    "\n",
    "weather1_mapping = {\n",
    "    '不明': 'unknown', \n",
    "    '雪': 'snow', \n",
    "    '雪のち雨': 'snow and then rain', \n",
    "    '雪一時雨': 'sleet', \n",
    "    '雨': 'rain', \n",
    "    '晴': 'sunny', \n",
    "    '曇のち雨': 'cloudy then rain', \n",
    "    '晴のち曇': 'cloudy weather', \n",
    "    '曇のち晴': 'cloudy then sunny',\n",
    "    '晴一時雪': 'fine snow', \n",
    "    '雨のち晴': 'rain then sunny', \n",
    "    '曇': 'cloudy', \n",
    "    '雪のち晴': 'snow then sunny', \n",
    "    '雨のち曇': 'cloudy after rain', \n",
    "    '曇時々晴': 'partly cloudy', \n",
    "    '雪のち曇': 'cloudy after snow', \n",
    "    '晴一時雨': 'sunny partly rain',\n",
    "    '晴のち雨': 'sunny after rain'\n",
    "}"
   ]
  },
  {
   "cell_type": "code",
   "execution_count": 33,
   "metadata": {},
   "outputs": [],
   "source": [
    "# Cleaning data\n",
    "cleaned_df = clean_data(df, city_mapping)"
   ]
  },
  {
   "cell_type": "code",
   "execution_count": 34,
   "metadata": {},
   "outputs": [
    {
     "data": {
      "text/html": [
       "<div>\n",
       "<style scoped>\n",
       "    .dataframe tbody tr th:only-of-type {\n",
       "        vertical-align: middle;\n",
       "    }\n",
       "\n",
       "    .dataframe tbody tr th {\n",
       "        vertical-align: top;\n",
       "    }\n",
       "\n",
       "    .dataframe thead th {\n",
       "        text-align: right;\n",
       "    }\n",
       "</style>\n",
       "<table border=\"1\" class=\"dataframe\">\n",
       "  <thead>\n",
       "    <tr style=\"text-align: right;\">\n",
       "      <th></th>\n",
       "      <th>city</th>\n",
       "      <th>weather1</th>\n",
       "      <th>max_temp</th>\n",
       "      <th>min_temp</th>\n",
       "      <th>rain</th>\n",
       "      <th>sunrise</th>\n",
       "      <th>sunset</th>\n",
       "      <th>date</th>\n",
       "    </tr>\n",
       "  </thead>\n",
       "  <tbody>\n",
       "    <tr>\n",
       "      <th>0</th>\n",
       "      <td>Matsumoto</td>\n",
       "      <td>unknown</td>\n",
       "      <td>21.6℃</td>\n",
       "      <td>8.7℃</td>\n",
       "      <td>0.0mm</td>\n",
       "      <td>05:01</td>\n",
       "      <td>18:31</td>\n",
       "      <td>2018-04-26</td>\n",
       "    </tr>\n",
       "    <tr>\n",
       "      <th>1</th>\n",
       "      <td>Matsumoto</td>\n",
       "      <td>unknown</td>\n",
       "      <td>22.7℃</td>\n",
       "      <td>12.3℃</td>\n",
       "      <td>0.0mm</td>\n",
       "      <td>05:00</td>\n",
       "      <td>18:32</td>\n",
       "      <td>2018-04-27</td>\n",
       "    </tr>\n",
       "    <tr>\n",
       "      <th>2</th>\n",
       "      <td>Matsumoto</td>\n",
       "      <td>unknown</td>\n",
       "      <td>23.9℃</td>\n",
       "      <td>7.2℃</td>\n",
       "      <td>0.0mm</td>\n",
       "      <td>04:59</td>\n",
       "      <td>18:33</td>\n",
       "      <td>2018-04-28</td>\n",
       "    </tr>\n",
       "    <tr>\n",
       "      <th>3</th>\n",
       "      <td>Matsumoto</td>\n",
       "      <td>unknown</td>\n",
       "      <td>28.1℃</td>\n",
       "      <td>8.5℃</td>\n",
       "      <td>0.0mm</td>\n",
       "      <td>04:58</td>\n",
       "      <td>18:34</td>\n",
       "      <td>2018-04-29</td>\n",
       "    </tr>\n",
       "    <tr>\n",
       "      <th>4</th>\n",
       "      <td>Matsumoto</td>\n",
       "      <td>unknown</td>\n",
       "      <td>24.7℃</td>\n",
       "      <td>14.5℃</td>\n",
       "      <td>0.0mm</td>\n",
       "      <td>04:57</td>\n",
       "      <td>18:34</td>\n",
       "      <td>2018-04-30</td>\n",
       "    </tr>\n",
       "  </tbody>\n",
       "</table>\n",
       "</div>"
      ],
      "text/plain": [
       "        city weather1 max_temp min_temp   rain sunrise sunset       date\n",
       "0  Matsumoto  unknown    21.6℃     8.7℃  0.0mm   05:01  18:31 2018-04-26\n",
       "1  Matsumoto  unknown    22.7℃    12.3℃  0.0mm   05:00  18:32 2018-04-27\n",
       "2  Matsumoto  unknown    23.9℃     7.2℃  0.0mm   04:59  18:33 2018-04-28\n",
       "3  Matsumoto  unknown    28.1℃     8.5℃  0.0mm   04:58  18:34 2018-04-29\n",
       "4  Matsumoto  unknown    24.7℃    14.5℃  0.0mm   04:57  18:34 2018-04-30"
      ]
     },
     "execution_count": 34,
     "metadata": {},
     "output_type": "execute_result"
    }
   ],
   "source": [
    "cleaned_df.head(5)"
   ]
  },
  {
   "cell_type": "code",
   "execution_count": 35,
   "metadata": {},
   "outputs": [],
   "source": [
    "cleaned_df.to_csv('weather.csv')"
   ]
  },
  {
   "cell_type": "markdown",
   "metadata": {},
   "source": [
    "# Specific Cleaning for the proyect"
   ]
  },
  {
   "cell_type": "code",
   "execution_count": 36,
   "metadata": {},
   "outputs": [
    {
     "name": "stdout",
     "output_type": "stream",
     "text": [
      "<class 'pandas.core.frame.DataFrame'>\n",
      "Int64Index: 675 entries, 0 to 674\n",
      "Data columns (total 8 columns):\n",
      " #   Column    Non-Null Count  Dtype         \n",
      "---  ------    --------------  -----         \n",
      " 0   city      675 non-null    object        \n",
      " 1   weather1  675 non-null    object        \n",
      " 2   max_temp  675 non-null    object        \n",
      " 3   min_temp  675 non-null    object        \n",
      " 4   rain      675 non-null    object        \n",
      " 5   sunrise   675 non-null    object        \n",
      " 6   sunset    675 non-null    object        \n",
      " 7   date      675 non-null    datetime64[ns]\n",
      "dtypes: datetime64[ns](1), object(7)\n",
      "memory usage: 47.5+ KB\n"
     ]
    }
   ],
   "source": [
    "cleaned_df.info()"
   ]
  },
  {
   "cell_type": "code",
   "execution_count": 37,
   "metadata": {},
   "outputs": [
    {
     "data": {
      "text/plain": [
       "unknown               590\n",
       "rain                   52\n",
       "snow                    5\n",
       "cloudy then sunny       5\n",
       "cloudy weather          5\n",
       "sunny                   4\n",
       "cloudy then rain        3\n",
       "cloudy                  3\n",
       "snow and then rain      2\n",
       "rain then sunny         1\n",
       "cloudy after rain       1\n",
       "sleet                   1\n",
       "fine snow               1\n",
       "snow then sunny         1\n",
       "partly cloudy           1\n",
       "Name: weather1, dtype: int64"
      ]
     },
     "execution_count": 37,
     "metadata": {},
     "output_type": "execute_result"
    }
   ],
   "source": [
    "# Dropped as too many nan values but this column will enrich the data with a better API info.\n",
    "cleaned_df['weather1'].value_counts()"
   ]
  },
  {
   "cell_type": "code",
   "execution_count": 38,
   "metadata": {},
   "outputs": [],
   "source": [
    "#cleaned_df['rain'].value_counts()"
   ]
  },
  {
   "cell_type": "code",
   "execution_count": 39,
   "metadata": {},
   "outputs": [],
   "source": [
    "# Not relevant info for the project\n",
    "cleaned_df.drop(columns = ['weather1', 'sunrise', 'sunset'], inplace = True )"
   ]
  },
  {
   "cell_type": "code",
   "execution_count": 40,
   "metadata": {},
   "outputs": [],
   "source": [
    "# Cleaning colums for Temp avg\n",
    "cleaned_df['max_temp'] = cleaned_df['max_temp'].str.replace('℃', '')\n",
    "cleaned_df['min_temp'] = cleaned_df['min_temp'].str.replace('℃', '')\n",
    "cleaned_df['max_temp'] = cleaned_df['max_temp'].astype(float)\n",
    "cleaned_df['min_temp'] = cleaned_df['min_temp'].astype(float)\n",
    "\n"
   ]
  },
  {
   "cell_type": "code",
   "execution_count": 41,
   "metadata": {},
   "outputs": [],
   "source": [
    "# Obtaining the mean temperature of each day\n",
    "cleaned_df['temp'] = cleaned_df[[\"max_temp\", \"min_temp\"]].mean(axis=1).round(1)"
   ]
  },
  {
   "cell_type": "code",
   "execution_count": 42,
   "metadata": {},
   "outputs": [],
   "source": [
    "# Cleaning columns of rain\n",
    "cleaned_df['rain'] = cleaned_df['rain'].str.replace('mm', '')\n",
    "cleaned_df['rain'] = cleaned_df['rain'].astype(float)"
   ]
  },
  {
   "cell_type": "code",
   "execution_count": 43,
   "metadata": {},
   "outputs": [],
   "source": [
    "# Dropping not necessary columns after cleaning\n",
    "cleaned_df.drop(columns = ['city', 'max_temp', 'min_temp'], inplace = True )"
   ]
  },
  {
   "cell_type": "code",
   "execution_count": 44,
   "metadata": {},
   "outputs": [],
   "source": [
    "cleaned_df = cleaned_df[['date', 'temp', 'rain']]"
   ]
  },
  {
   "cell_type": "code",
   "execution_count": 45,
   "metadata": {},
   "outputs": [
    {
     "name": "stdout",
     "output_type": "stream",
     "text": [
      "<class 'pandas.core.frame.DataFrame'>\n",
      "Int64Index: 675 entries, 0 to 674\n",
      "Data columns (total 3 columns):\n",
      " #   Column  Non-Null Count  Dtype         \n",
      "---  ------  --------------  -----         \n",
      " 0   date    675 non-null    datetime64[ns]\n",
      " 1   temp    675 non-null    float64       \n",
      " 2   rain    675 non-null    float64       \n",
      "dtypes: datetime64[ns](1), float64(2)\n",
      "memory usage: 21.1 KB\n"
     ]
    }
   ],
   "source": [
    "cleaned_df.info()"
   ]
  },
  {
   "cell_type": "code",
   "execution_count": 46,
   "metadata": {},
   "outputs": [
    {
     "data": {
      "text/html": [
       "<div>\n",
       "<style scoped>\n",
       "    .dataframe tbody tr th:only-of-type {\n",
       "        vertical-align: middle;\n",
       "    }\n",
       "\n",
       "    .dataframe tbody tr th {\n",
       "        vertical-align: top;\n",
       "    }\n",
       "\n",
       "    .dataframe thead th {\n",
       "        text-align: right;\n",
       "    }\n",
       "</style>\n",
       "<table border=\"1\" class=\"dataframe\">\n",
       "  <thead>\n",
       "    <tr style=\"text-align: right;\">\n",
       "      <th></th>\n",
       "      <th>date</th>\n",
       "      <th>temp</th>\n",
       "      <th>rain</th>\n",
       "    </tr>\n",
       "  </thead>\n",
       "  <tbody>\n",
       "    <tr>\n",
       "      <th>0</th>\n",
       "      <td>2018-04-26</td>\n",
       "      <td>15.2</td>\n",
       "      <td>0.0</td>\n",
       "    </tr>\n",
       "    <tr>\n",
       "      <th>1</th>\n",
       "      <td>2018-04-27</td>\n",
       "      <td>17.5</td>\n",
       "      <td>0.0</td>\n",
       "    </tr>\n",
       "    <tr>\n",
       "      <th>2</th>\n",
       "      <td>2018-04-28</td>\n",
       "      <td>15.6</td>\n",
       "      <td>0.0</td>\n",
       "    </tr>\n",
       "    <tr>\n",
       "      <th>3</th>\n",
       "      <td>2018-04-29</td>\n",
       "      <td>18.3</td>\n",
       "      <td>0.0</td>\n",
       "    </tr>\n",
       "    <tr>\n",
       "      <th>4</th>\n",
       "      <td>2018-04-30</td>\n",
       "      <td>19.6</td>\n",
       "      <td>0.0</td>\n",
       "    </tr>\n",
       "  </tbody>\n",
       "</table>\n",
       "</div>"
      ],
      "text/plain": [
       "        date  temp  rain\n",
       "0 2018-04-26  15.2   0.0\n",
       "1 2018-04-27  17.5   0.0\n",
       "2 2018-04-28  15.6   0.0\n",
       "3 2018-04-29  18.3   0.0\n",
       "4 2018-04-30  19.6   0.0"
      ]
     },
     "execution_count": 46,
     "metadata": {},
     "output_type": "execute_result"
    }
   ],
   "source": [
    "cleaned_df.head()"
   ]
  },
  {
   "cell_type": "code",
   "execution_count": 47,
   "metadata": {},
   "outputs": [
    {
     "data": {
      "text/html": [
       "<div>\n",
       "<style scoped>\n",
       "    .dataframe tbody tr th:only-of-type {\n",
       "        vertical-align: middle;\n",
       "    }\n",
       "\n",
       "    .dataframe tbody tr th {\n",
       "        vertical-align: top;\n",
       "    }\n",
       "\n",
       "    .dataframe thead th {\n",
       "        text-align: right;\n",
       "    }\n",
       "</style>\n",
       "<table border=\"1\" class=\"dataframe\">\n",
       "  <thead>\n",
       "    <tr style=\"text-align: right;\">\n",
       "      <th></th>\n",
       "      <th>date</th>\n",
       "      <th>temp</th>\n",
       "      <th>rain</th>\n",
       "    </tr>\n",
       "  </thead>\n",
       "  <tbody>\n",
       "    <tr>\n",
       "      <th>670</th>\n",
       "      <td>2020-02-25</td>\n",
       "      <td>2.8</td>\n",
       "      <td>7.0</td>\n",
       "    </tr>\n",
       "    <tr>\n",
       "      <th>671</th>\n",
       "      <td>2020-02-26</td>\n",
       "      <td>4.4</td>\n",
       "      <td>1.0</td>\n",
       "    </tr>\n",
       "    <tr>\n",
       "      <th>672</th>\n",
       "      <td>2020-02-27</td>\n",
       "      <td>1.8</td>\n",
       "      <td>0.0</td>\n",
       "    </tr>\n",
       "    <tr>\n",
       "      <th>673</th>\n",
       "      <td>2020-02-28</td>\n",
       "      <td>1.1</td>\n",
       "      <td>0.0</td>\n",
       "    </tr>\n",
       "    <tr>\n",
       "      <th>674</th>\n",
       "      <td>2020-02-29</td>\n",
       "      <td>6.0</td>\n",
       "      <td>0.0</td>\n",
       "    </tr>\n",
       "  </tbody>\n",
       "</table>\n",
       "</div>"
      ],
      "text/plain": [
       "          date  temp  rain\n",
       "670 2020-02-25   2.8   7.0\n",
       "671 2020-02-26   4.4   1.0\n",
       "672 2020-02-27   1.8   0.0\n",
       "673 2020-02-28   1.1   0.0\n",
       "674 2020-02-29   6.0   0.0"
      ]
     },
     "execution_count": 47,
     "metadata": {},
     "output_type": "execute_result"
    }
   ],
   "source": [
    "cleaned_df.tail()"
   ]
  },
  {
   "cell_type": "code",
   "execution_count": 48,
   "metadata": {},
   "outputs": [],
   "source": [
    "cleaned_df.to_csv('weather_prophet18-20.csv')"
   ]
  },
  {
   "cell_type": "code",
   "execution_count": null,
   "metadata": {},
   "outputs": [],
   "source": []
  }
 ],
 "metadata": {
  "kernelspec": {
   "display_name": "Python 3",
   "language": "python",
   "name": "python3"
  },
  "language_info": {
   "codemirror_mode": {
    "name": "ipython",
    "version": 3
   },
   "file_extension": ".py",
   "mimetype": "text/x-python",
   "name": "python",
   "nbconvert_exporter": "python",
   "pygments_lexer": "ipython3",
   "version": "3.7.7"
  }
 },
 "nbformat": 4,
 "nbformat_minor": 4
}
