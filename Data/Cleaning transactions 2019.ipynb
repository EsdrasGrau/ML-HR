{
 "cells": [
  {
   "cell_type": "markdown",
   "metadata": {},
   "source": [
    "# Cleaning transactions 2019"
   ]
  },
  {
   "cell_type": "code",
   "execution_count": 1,
   "metadata": {},
   "outputs": [],
   "source": [
    "import pandas as pd\n",
    "import matplotlib.pyplot as plt \n",
    "import matplotlib as mpl \n",
    "import utils\n",
    "from scipy.stats import zscore\n",
    "from scipy import stats\n",
    "import numpy as np"
   ]
  },
  {
   "cell_type": "code",
   "execution_count": 2,
   "metadata": {},
   "outputs": [
    {
     "name": "stderr",
     "output_type": "stream",
     "text": [
      "/usr/local/lib/python3.7/site-packages/IPython/core/interactiveshell.py:3063: DtypeWarning: Columns (17,18,35) have mixed types.Specify dtype option on import or set low_memory=False.\n",
      "  interactivity=interactivity, compiler=compiler, result=result)\n"
     ]
    }
   ],
   "source": [
    "df = pd.read_csv('transactions-2019-utf8.csv', encoding='UTF-8', sep = '\\t')"
   ]
  },
  {
   "cell_type": "code",
   "execution_count": 3,
   "metadata": {},
   "outputs": [
    {
     "data": {
      "text/html": [
       "<div>\n",
       "<style scoped>\n",
       "    .dataframe tbody tr th:only-of-type {\n",
       "        vertical-align: middle;\n",
       "    }\n",
       "\n",
       "    .dataframe tbody tr th {\n",
       "        vertical-align: top;\n",
       "    }\n",
       "\n",
       "    .dataframe thead th {\n",
       "        text-align: right;\n",
       "    }\n",
       "</style>\n",
       "<table border=\"1\" class=\"dataframe\">\n",
       "  <thead>\n",
       "    <tr style=\"text-align: right;\">\n",
       "      <th></th>\n",
       "      <th>Date</th>\n",
       "      <th>Time</th>\n",
       "      <th>Time Zone</th>\n",
       "      <th>Gross Sales</th>\n",
       "      <th>Discounts</th>\n",
       "      <th>Net Sales</th>\n",
       "      <th>Gift Card Sales</th>\n",
       "      <th>Tax</th>\n",
       "      <th>Tip</th>\n",
       "      <th>Partial Refunds</th>\n",
       "      <th>...</th>\n",
       "      <th>Device Nickname</th>\n",
       "      <th>Deposit ID</th>\n",
       "      <th>Deposit Date</th>\n",
       "      <th>Deposit Details</th>\n",
       "      <th>Fee Percentage Rate</th>\n",
       "      <th>Fee Fixed Rate</th>\n",
       "      <th>Refund Reason</th>\n",
       "      <th>E-money</th>\n",
       "      <th>Discount Name</th>\n",
       "      <th>Transaction Status</th>\n",
       "    </tr>\n",
       "  </thead>\n",
       "  <tbody>\n",
       "    <tr>\n",
       "      <th>0</th>\n",
       "      <td>12/31/19</td>\n",
       "      <td>13:56:36</td>\n",
       "      <td>Tokyo</td>\n",
       "      <td>¥308</td>\n",
       "      <td>¥0</td>\n",
       "      <td>¥308</td>\n",
       "      <td>¥0</td>\n",
       "      <td>¥24</td>\n",
       "      <td>¥0</td>\n",
       "      <td>¥0</td>\n",
       "      <td>...</td>\n",
       "      <td>Nawate Cafe 1</td>\n",
       "      <td>NaN</td>\n",
       "      <td>NaN</td>\n",
       "      <td>NaN</td>\n",
       "      <td>NaN</td>\n",
       "      <td>NaN</td>\n",
       "      <td>NaN</td>\n",
       "      <td>¥0</td>\n",
       "      <td>NaN</td>\n",
       "      <td>Complete</td>\n",
       "    </tr>\n",
       "    <tr>\n",
       "      <th>1</th>\n",
       "      <td>12/31/19</td>\n",
       "      <td>13:55:34</td>\n",
       "      <td>Tokyo</td>\n",
       "      <td>¥1,225</td>\n",
       "      <td>¥0</td>\n",
       "      <td>¥1,225</td>\n",
       "      <td>¥0</td>\n",
       "      <td>¥98</td>\n",
       "      <td>¥0</td>\n",
       "      <td>¥0</td>\n",
       "      <td>...</td>\n",
       "      <td>Nawate Cafe 3</td>\n",
       "      <td>NaN</td>\n",
       "      <td>NaN</td>\n",
       "      <td>NaN</td>\n",
       "      <td>NaN</td>\n",
       "      <td>NaN</td>\n",
       "      <td>NaN</td>\n",
       "      <td>¥0</td>\n",
       "      <td>NaN</td>\n",
       "      <td>Complete</td>\n",
       "    </tr>\n",
       "    <tr>\n",
       "      <th>2</th>\n",
       "      <td>12/31/19</td>\n",
       "      <td>13:50:27</td>\n",
       "      <td>Tokyo</td>\n",
       "      <td>¥168</td>\n",
       "      <td>¥0</td>\n",
       "      <td>¥168</td>\n",
       "      <td>¥0</td>\n",
       "      <td>¥13</td>\n",
       "      <td>¥0</td>\n",
       "      <td>¥0</td>\n",
       "      <td>...</td>\n",
       "      <td>Nawate Cafe 3</td>\n",
       "      <td>NaN</td>\n",
       "      <td>NaN</td>\n",
       "      <td>NaN</td>\n",
       "      <td>NaN</td>\n",
       "      <td>NaN</td>\n",
       "      <td>NaN</td>\n",
       "      <td>¥0</td>\n",
       "      <td>NaN</td>\n",
       "      <td>Complete</td>\n",
       "    </tr>\n",
       "    <tr>\n",
       "      <th>3</th>\n",
       "      <td>12/31/19</td>\n",
       "      <td>13:48:57</td>\n",
       "      <td>Tokyo</td>\n",
       "      <td>¥557</td>\n",
       "      <td>¥0</td>\n",
       "      <td>¥557</td>\n",
       "      <td>¥0</td>\n",
       "      <td>¥46</td>\n",
       "      <td>¥0</td>\n",
       "      <td>¥0</td>\n",
       "      <td>...</td>\n",
       "      <td>Nawate Cafe 3</td>\n",
       "      <td>3Z6XBTC4HG348YN7ZZBY12E74TQH</td>\n",
       "      <td>01/06/20</td>\n",
       "      <td>https://squareup.com/dashboard/sales/deposits/...</td>\n",
       "      <td>3.25</td>\n",
       "      <td>¥0</td>\n",
       "      <td>NaN</td>\n",
       "      <td>¥0</td>\n",
       "      <td>NaN</td>\n",
       "      <td>Complete</td>\n",
       "    </tr>\n",
       "    <tr>\n",
       "      <th>4</th>\n",
       "      <td>12/31/19</td>\n",
       "      <td>13:41:17</td>\n",
       "      <td>Tokyo</td>\n",
       "      <td>¥345</td>\n",
       "      <td>¥0</td>\n",
       "      <td>¥345</td>\n",
       "      <td>¥0</td>\n",
       "      <td>¥27</td>\n",
       "      <td>¥0</td>\n",
       "      <td>¥0</td>\n",
       "      <td>...</td>\n",
       "      <td>Nawate Cafe 1</td>\n",
       "      <td>NaN</td>\n",
       "      <td>NaN</td>\n",
       "      <td>NaN</td>\n",
       "      <td>NaN</td>\n",
       "      <td>NaN</td>\n",
       "      <td>NaN</td>\n",
       "      <td>¥0</td>\n",
       "      <td>NaN</td>\n",
       "      <td>Complete</td>\n",
       "    </tr>\n",
       "  </tbody>\n",
       "</table>\n",
       "<p>5 rows × 46 columns</p>\n",
       "</div>"
      ],
      "text/plain": [
       "       Date      Time Time Zone Gross Sales Discounts Net Sales  \\\n",
       "0  12/31/19  13:56:36     Tokyo        ¥308        ¥0      ¥308   \n",
       "1  12/31/19  13:55:34     Tokyo      ¥1,225        ¥0    ¥1,225   \n",
       "2  12/31/19  13:50:27     Tokyo        ¥168        ¥0      ¥168   \n",
       "3  12/31/19  13:48:57     Tokyo        ¥557        ¥0      ¥557   \n",
       "4  12/31/19  13:41:17     Tokyo        ¥345        ¥0      ¥345   \n",
       "\n",
       "  Gift Card Sales  Tax Tip Partial Refunds  ... Device Nickname  \\\n",
       "0              ¥0  ¥24  ¥0              ¥0  ...   Nawate Cafe 1   \n",
       "1              ¥0  ¥98  ¥0              ¥0  ...   Nawate Cafe 3   \n",
       "2              ¥0  ¥13  ¥0              ¥0  ...   Nawate Cafe 3   \n",
       "3              ¥0  ¥46  ¥0              ¥0  ...   Nawate Cafe 3   \n",
       "4              ¥0  ¥27  ¥0              ¥0  ...   Nawate Cafe 1   \n",
       "\n",
       "                     Deposit ID Deposit Date  \\\n",
       "0                           NaN          NaN   \n",
       "1                           NaN          NaN   \n",
       "2                           NaN          NaN   \n",
       "3  3Z6XBTC4HG348YN7ZZBY12E74TQH     01/06/20   \n",
       "4                           NaN          NaN   \n",
       "\n",
       "                                     Deposit Details Fee Percentage Rate  \\\n",
       "0                                                NaN                 NaN   \n",
       "1                                                NaN                 NaN   \n",
       "2                                                NaN                 NaN   \n",
       "3  https://squareup.com/dashboard/sales/deposits/...                3.25   \n",
       "4                                                NaN                 NaN   \n",
       "\n",
       "  Fee Fixed Rate Refund Reason E-money Discount Name Transaction Status  \n",
       "0            NaN           NaN      ¥0           NaN           Complete  \n",
       "1            NaN           NaN      ¥0           NaN           Complete  \n",
       "2            NaN           NaN      ¥0           NaN           Complete  \n",
       "3             ¥0           NaN      ¥0           NaN           Complete  \n",
       "4            NaN           NaN      ¥0           NaN           Complete  \n",
       "\n",
       "[5 rows x 46 columns]"
      ]
     },
     "execution_count": 3,
     "metadata": {},
     "output_type": "execute_result"
    }
   ],
   "source": [
    "df.head()"
   ]
  },
  {
   "cell_type": "code",
   "execution_count": 4,
   "metadata": {},
   "outputs": [],
   "source": [
    "# Time Optional column of time for future use\n",
    "#df = df[['Date', 'Time', 'Total Collected']]"
   ]
  },
  {
   "cell_type": "code",
   "execution_count": 5,
   "metadata": {},
   "outputs": [],
   "source": [
    "df = df[['Date', 'Total Collected']]"
   ]
  },
  {
   "cell_type": "code",
   "execution_count": 6,
   "metadata": {},
   "outputs": [
    {
     "name": "stdout",
     "output_type": "stream",
     "text": [
      "<class 'pandas.core.frame.DataFrame'>\n",
      "RangeIndex: 48742 entries, 0 to 48741\n",
      "Data columns (total 2 columns):\n",
      " #   Column           Non-Null Count  Dtype \n",
      "---  ------           --------------  ----- \n",
      " 0   Date             48742 non-null  object\n",
      " 1   Total Collected  48742 non-null  object\n",
      "dtypes: object(2)\n",
      "memory usage: 761.7+ KB\n"
     ]
    }
   ],
   "source": [
    "df.info()"
   ]
  },
  {
   "cell_type": "code",
   "execution_count": 7,
   "metadata": {},
   "outputs": [],
   "source": [
    "# Cleaning Date\n",
    "df.Date=pd.to_datetime(df.Date)"
   ]
  },
  {
   "cell_type": "code",
   "execution_count": 8,
   "metadata": {},
   "outputs": [],
   "source": [
    "# Cleaning Time\n",
    "#df['Time'] = pd.to_timedelta(df['Time'], unit='s')"
   ]
  },
  {
   "cell_type": "code",
   "execution_count": 9,
   "metadata": {},
   "outputs": [],
   "source": [
    "# Cleaning Total Collected\n",
    "df['Total Collected'] = df['Total Collected'].str.replace('¥', '')\n",
    "df['Total Collected'] = df['Total Collected'].str.replace(',', '')\n",
    "df['Total Collected'] = df['Total Collected'].astype(int)"
   ]
  },
  {
   "cell_type": "code",
   "execution_count": 10,
   "metadata": {},
   "outputs": [
    {
     "name": "stdout",
     "output_type": "stream",
     "text": [
      "<class 'pandas.core.frame.DataFrame'>\n",
      "RangeIndex: 48742 entries, 0 to 48741\n",
      "Data columns (total 2 columns):\n",
      " #   Column           Non-Null Count  Dtype         \n",
      "---  ------           --------------  -----         \n",
      " 0   Date             48742 non-null  datetime64[ns]\n",
      " 1   Total Collected  48742 non-null  int64         \n",
      "dtypes: datetime64[ns](1), int64(1)\n",
      "memory usage: 761.7 KB\n"
     ]
    }
   ],
   "source": [
    "df.info()"
   ]
  },
  {
   "cell_type": "code",
   "execution_count": 11,
   "metadata": {},
   "outputs": [
    {
     "data": {
      "text/html": [
       "<div>\n",
       "<style scoped>\n",
       "    .dataframe tbody tr th:only-of-type {\n",
       "        vertical-align: middle;\n",
       "    }\n",
       "\n",
       "    .dataframe tbody tr th {\n",
       "        vertical-align: top;\n",
       "    }\n",
       "\n",
       "    .dataframe thead th {\n",
       "        text-align: right;\n",
       "    }\n",
       "</style>\n",
       "<table border=\"1\" class=\"dataframe\">\n",
       "  <thead>\n",
       "    <tr style=\"text-align: right;\">\n",
       "      <th></th>\n",
       "      <th>Date</th>\n",
       "      <th>Total Collected</th>\n",
       "    </tr>\n",
       "  </thead>\n",
       "  <tbody>\n",
       "    <tr>\n",
       "      <th>0</th>\n",
       "      <td>2019-12-31</td>\n",
       "      <td>332</td>\n",
       "    </tr>\n",
       "    <tr>\n",
       "      <th>1</th>\n",
       "      <td>2019-12-31</td>\n",
       "      <td>1323</td>\n",
       "    </tr>\n",
       "    <tr>\n",
       "      <th>2</th>\n",
       "      <td>2019-12-31</td>\n",
       "      <td>181</td>\n",
       "    </tr>\n",
       "    <tr>\n",
       "      <th>3</th>\n",
       "      <td>2019-12-31</td>\n",
       "      <td>603</td>\n",
       "    </tr>\n",
       "    <tr>\n",
       "      <th>4</th>\n",
       "      <td>2019-12-31</td>\n",
       "      <td>372</td>\n",
       "    </tr>\n",
       "  </tbody>\n",
       "</table>\n",
       "</div>"
      ],
      "text/plain": [
       "        Date  Total Collected\n",
       "0 2019-12-31              332\n",
       "1 2019-12-31             1323\n",
       "2 2019-12-31              181\n",
       "3 2019-12-31              603\n",
       "4 2019-12-31              372"
      ]
     },
     "execution_count": 11,
     "metadata": {},
     "output_type": "execute_result"
    }
   ],
   "source": [
    "df.head()"
   ]
  },
  {
   "cell_type": "code",
   "execution_count": 12,
   "metadata": {},
   "outputs": [],
   "source": [
    "# To delete returns \n",
    "df=df.drop(df[df['Total Collected'] < 0].index)"
   ]
  },
  {
   "cell_type": "code",
   "execution_count": 13,
   "metadata": {},
   "outputs": [],
   "source": [
    "# Renaming\n",
    "df.rename(columns={'Total Collected':'Total'}, inplace=True)"
   ]
  },
  {
   "cell_type": "code",
   "execution_count": 14,
   "metadata": {},
   "outputs": [
    {
     "data": {
      "text/plain": [
       "<Figure size 576x576 with 0 Axes>"
      ]
     },
     "metadata": {},
     "output_type": "display_data"
    },
    {
     "data": {
      "image/png": "[encoded data removed]",
      "text/plain": [
       "<Figure size 432x288 with 1 Axes>"
      ]
     },
     "metadata": {
      "needs_background": "light"
     },
     "output_type": "display_data"
    }
   ],
   "source": [
    "# Ploting outliers\n",
    "plt.figure(figsize=(8,8))\n",
    "df.plot.box()\n",
    "plt.title('Outliers')\n",
    "plt.show();"
   ]
  },
  {
   "cell_type": "code",
   "execution_count": 15,
   "metadata": {},
   "outputs": [],
   "source": [
    "#Removing outliers\n",
    "q1=np.percentile(df.Total, 25)\n",
    "q3=np.percentile(df.Total, 75)"
   ]
  },
  {
   "cell_type": "code",
   "execution_count": 16,
   "metadata": {},
   "outputs": [],
   "source": [
    "iqr=q3-q1\n",
    "\n",
    "upper=q3+3*iqr\n",
    "lower=q3-3*iqr"
   ]
  },
  {
   "cell_type": "code",
   "execution_count": 17,
   "metadata": {},
   "outputs": [
    {
     "data": {
      "text/plain": [
       "0"
      ]
     },
     "execution_count": 17,
     "metadata": {},
     "output_type": "execute_result"
    }
   ],
   "source": [
    "len(df[df.Total < lower])"
   ]
  },
  {
   "cell_type": "code",
   "execution_count": 18,
   "metadata": {},
   "outputs": [
    {
     "data": {
      "text/plain": [
       "(47897, 2)"
      ]
     },
     "execution_count": 18,
     "metadata": {},
     "output_type": "execute_result"
    }
   ],
   "source": [
    "df_outliers=df[df.Total < upper]\n",
    "df_outliers.shape"
   ]
  },
  {
   "cell_type": "code",
   "execution_count": 19,
   "metadata": {},
   "outputs": [
    {
     "data": {
      "text/plain": [
       "<Figure size 576x576 with 0 Axes>"
      ]
     },
     "metadata": {},
     "output_type": "display_data"
    },
    {
     "data": {
      "image/png": "[encoded data removed]",
      "text/plain": [
       "<Figure size 432x288 with 1 Axes>"
      ]
     },
     "metadata": {
      "needs_background": "light"
     },
     "output_type": "display_data"
    }
   ],
   "source": [
    "plt.figure(figsize=(8,8))\n",
    "df_outliers.plot.box()\n",
    "plt.title('Outliers')\n",
    "plt.show();"
   ]
  },
  {
   "cell_type": "code",
   "execution_count": 20,
   "metadata": {},
   "outputs": [],
   "source": [
    "df_19=df_outliers.groupby(['Date']).sum()"
   ]
  },
  {
   "cell_type": "code",
   "execution_count": 21,
   "metadata": {},
   "outputs": [
    {
     "data": {
      "text/html": [
       "<div>\n",
       "<style scoped>\n",
       "    .dataframe tbody tr th:only-of-type {\n",
       "        vertical-align: middle;\n",
       "    }\n",
       "\n",
       "    .dataframe tbody tr th {\n",
       "        vertical-align: top;\n",
       "    }\n",
       "\n",
       "    .dataframe thead th {\n",
       "        text-align: right;\n",
       "    }\n",
       "</style>\n",
       "<table border=\"1\" class=\"dataframe\">\n",
       "  <thead>\n",
       "    <tr style=\"text-align: right;\">\n",
       "      <th></th>\n",
       "      <th>Total</th>\n",
       "    </tr>\n",
       "    <tr>\n",
       "      <th>Date</th>\n",
       "      <th></th>\n",
       "    </tr>\n",
       "  </thead>\n",
       "  <tbody>\n",
       "    <tr>\n",
       "      <th>2019-01-02</th>\n",
       "      <td>288732</td>\n",
       "    </tr>\n",
       "    <tr>\n",
       "      <th>2019-01-03</th>\n",
       "      <td>312162</td>\n",
       "    </tr>\n",
       "    <tr>\n",
       "      <th>2019-01-04</th>\n",
       "      <td>246400</td>\n",
       "    </tr>\n",
       "    <tr>\n",
       "      <th>2019-01-05</th>\n",
       "      <td>214133</td>\n",
       "    </tr>\n",
       "    <tr>\n",
       "      <th>2019-01-06</th>\n",
       "      <td>208366</td>\n",
       "    </tr>\n",
       "  </tbody>\n",
       "</table>\n",
       "</div>"
      ],
      "text/plain": [
       "             Total\n",
       "Date              \n",
       "2019-01-02  288732\n",
       "2019-01-03  312162\n",
       "2019-01-04  246400\n",
       "2019-01-05  214133\n",
       "2019-01-06  208366"
      ]
     },
     "execution_count": 21,
     "metadata": {},
     "output_type": "execute_result"
    }
   ],
   "source": [
    "df_19.head()"
   ]
  },
  {
   "cell_type": "code",
   "execution_count": 22,
   "metadata": {},
   "outputs": [],
   "source": [
    "df_19.to_csv('2019_prophet.csv')"
   ]
  },
  {
   "cell_type": "code",
   "execution_count": null,
   "metadata": {},
   "outputs": [],
   "source": []
  }
 ],
 "metadata": {
  "kernelspec": {
   "display_name": "Python 3",
   "language": "python",
   "name": "python3"
  },
  "language_info": {
   "codemirror_mode": {
    "name": "ipython",
    "version": 3
   },
   "file_extension": ".py",
   "mimetype": "text/x-python",
   "name": "python",
   "nbconvert_exporter": "python",
   "pygments_lexer": "ipython3",
   "version": "3.7.7"
  }
 },
 "nbformat": 4,
 "nbformat_minor": 4
}
