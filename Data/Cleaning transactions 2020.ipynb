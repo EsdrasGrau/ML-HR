{
 "cells": [
  {
   "cell_type": "markdown",
   "metadata": {},
   "source": [
    "# Cleaning transactions 2020"
   ]
  },
  {
   "cell_type": "code",
   "execution_count": 1,
   "metadata": {},
   "outputs": [],
   "source": [
    "import pandas as pd\n",
    "import matplotlib.pyplot as plt \n",
    "import matplotlib as mpl \n",
    "import utils\n",
    "from scipy.stats import zscore\n",
    "from scipy import stats\n",
    "import numpy as np"
   ]
  },
  {
   "cell_type": "code",
   "execution_count": 2,
   "metadata": {},
   "outputs": [],
   "source": [
    "df = pd.read_csv('transactions-2020-utf8.csv', encoding='UTF-8', sep = '\\t')"
   ]
  },
  {
   "cell_type": "code",
   "execution_count": 3,
   "metadata": {},
   "outputs": [],
   "source": [
    "#pd.set_option('display.max_columns', None)"
   ]
  },
  {
   "cell_type": "code",
   "execution_count": 4,
   "metadata": {},
   "outputs": [
    {
     "data": {
      "text/html": [
       "<div>\n",
       "<style scoped>\n",
       "    .dataframe tbody tr th:only-of-type {\n",
       "        vertical-align: middle;\n",
       "    }\n",
       "\n",
       "    .dataframe tbody tr th {\n",
       "        vertical-align: top;\n",
       "    }\n",
       "\n",
       "    .dataframe thead th {\n",
       "        text-align: right;\n",
       "    }\n",
       "</style>\n",
       "<table border=\"1\" class=\"dataframe\">\n",
       "  <thead>\n",
       "    <tr style=\"text-align: right;\">\n",
       "      <th></th>\n",
       "      <th>Date</th>\n",
       "      <th>Time</th>\n",
       "      <th>Time Zone</th>\n",
       "      <th>Gross Sales</th>\n",
       "      <th>Discounts</th>\n",
       "      <th>Net Sales</th>\n",
       "      <th>Gift Card Sales</th>\n",
       "      <th>Tax</th>\n",
       "      <th>Tip</th>\n",
       "      <th>Partial Refunds</th>\n",
       "      <th>...</th>\n",
       "      <th>Device Nickname</th>\n",
       "      <th>Deposit ID</th>\n",
       "      <th>Deposit Date</th>\n",
       "      <th>Deposit Details</th>\n",
       "      <th>Fee Percentage Rate</th>\n",
       "      <th>Fee Fixed Rate</th>\n",
       "      <th>Refund Reason</th>\n",
       "      <th>E-money</th>\n",
       "      <th>Discount Name</th>\n",
       "      <th>Transaction Status</th>\n",
       "    </tr>\n",
       "  </thead>\n",
       "  <tbody>\n",
       "    <tr>\n",
       "      <th>0</th>\n",
       "      <td>02/29/20</td>\n",
       "      <td>16:52:04</td>\n",
       "      <td>Tokyo</td>\n",
       "      <td>¥742</td>\n",
       "      <td>¥0</td>\n",
       "      <td>¥742</td>\n",
       "      <td>¥0</td>\n",
       "      <td>¥59</td>\n",
       "      <td>¥0</td>\n",
       "      <td>¥0</td>\n",
       "      <td>...</td>\n",
       "      <td>Nawate Cafe 3</td>\n",
       "      <td>3ZFJ7M38AYNC8YN188BY12E74TQH</td>\n",
       "      <td>03/05/20</td>\n",
       "      <td>https://squareup.com/dashboard/sales/deposits/...</td>\n",
       "      <td>3.25</td>\n",
       "      <td>¥0</td>\n",
       "      <td>NaN</td>\n",
       "      <td>¥0</td>\n",
       "      <td>NaN</td>\n",
       "      <td>Complete</td>\n",
       "    </tr>\n",
       "    <tr>\n",
       "      <th>1</th>\n",
       "      <td>02/29/20</td>\n",
       "      <td>16:51:05</td>\n",
       "      <td>Tokyo</td>\n",
       "      <td>¥485</td>\n",
       "      <td>¥0</td>\n",
       "      <td>¥485</td>\n",
       "      <td>¥0</td>\n",
       "      <td>¥38</td>\n",
       "      <td>¥0</td>\n",
       "      <td>¥0</td>\n",
       "      <td>...</td>\n",
       "      <td>Nawate Cafe 1</td>\n",
       "      <td>3ZFJ7M38AYNC8YN188BY12E74TQH</td>\n",
       "      <td>03/05/20</td>\n",
       "      <td>https://squareup.com/dashboard/sales/deposits/...</td>\n",
       "      <td>3.25</td>\n",
       "      <td>¥0</td>\n",
       "      <td>NaN</td>\n",
       "      <td>¥0</td>\n",
       "      <td>NaN</td>\n",
       "      <td>Complete</td>\n",
       "    </tr>\n",
       "    <tr>\n",
       "      <th>2</th>\n",
       "      <td>02/29/20</td>\n",
       "      <td>16:45:36</td>\n",
       "      <td>Tokyo</td>\n",
       "      <td>¥276</td>\n",
       "      <td>¥0</td>\n",
       "      <td>¥276</td>\n",
       "      <td>¥0</td>\n",
       "      <td>¥22</td>\n",
       "      <td>¥0</td>\n",
       "      <td>¥0</td>\n",
       "      <td>...</td>\n",
       "      <td>Nawate Cafe 1</td>\n",
       "      <td>NaN</td>\n",
       "      <td>NaN</td>\n",
       "      <td>NaN</td>\n",
       "      <td>NaN</td>\n",
       "      <td>NaN</td>\n",
       "      <td>NaN</td>\n",
       "      <td>¥0</td>\n",
       "      <td>NaN</td>\n",
       "      <td>Complete</td>\n",
       "    </tr>\n",
       "    <tr>\n",
       "      <th>3</th>\n",
       "      <td>02/29/20</td>\n",
       "      <td>16:37:51</td>\n",
       "      <td>Tokyo</td>\n",
       "      <td>¥1,038</td>\n",
       "      <td>¥0</td>\n",
       "      <td>¥1,038</td>\n",
       "      <td>¥0</td>\n",
       "      <td>¥83</td>\n",
       "      <td>¥0</td>\n",
       "      <td>¥0</td>\n",
       "      <td>...</td>\n",
       "      <td>Nawate Cafe 1</td>\n",
       "      <td>NaN</td>\n",
       "      <td>NaN</td>\n",
       "      <td>NaN</td>\n",
       "      <td>NaN</td>\n",
       "      <td>NaN</td>\n",
       "      <td>NaN</td>\n",
       "      <td>¥0</td>\n",
       "      <td>NaN</td>\n",
       "      <td>Complete</td>\n",
       "    </tr>\n",
       "    <tr>\n",
       "      <th>4</th>\n",
       "      <td>02/29/20</td>\n",
       "      <td>16:34:01</td>\n",
       "      <td>Tokyo</td>\n",
       "      <td>¥1,104</td>\n",
       "      <td>¥0</td>\n",
       "      <td>¥1,104</td>\n",
       "      <td>¥0</td>\n",
       "      <td>¥88</td>\n",
       "      <td>¥0</td>\n",
       "      <td>¥0</td>\n",
       "      <td>...</td>\n",
       "      <td>Nawate Cafe 1</td>\n",
       "      <td>NaN</td>\n",
       "      <td>NaN</td>\n",
       "      <td>NaN</td>\n",
       "      <td>NaN</td>\n",
       "      <td>NaN</td>\n",
       "      <td>NaN</td>\n",
       "      <td>¥0</td>\n",
       "      <td>NaN</td>\n",
       "      <td>Complete</td>\n",
       "    </tr>\n",
       "  </tbody>\n",
       "</table>\n",
       "<p>5 rows × 46 columns</p>\n",
       "</div>"
      ],
      "text/plain": [
       "       Date      Time Time Zone Gross Sales Discounts Net Sales  \\\n",
       "0  02/29/20  16:52:04     Tokyo        ¥742        ¥0      ¥742   \n",
       "1  02/29/20  16:51:05     Tokyo        ¥485        ¥0      ¥485   \n",
       "2  02/29/20  16:45:36     Tokyo        ¥276        ¥0      ¥276   \n",
       "3  02/29/20  16:37:51     Tokyo      ¥1,038        ¥0    ¥1,038   \n",
       "4  02/29/20  16:34:01     Tokyo      ¥1,104        ¥0    ¥1,104   \n",
       "\n",
       "  Gift Card Sales  Tax Tip Partial Refunds  ... Device Nickname  \\\n",
       "0              ¥0  ¥59  ¥0              ¥0  ...   Nawate Cafe 3   \n",
       "1              ¥0  ¥38  ¥0              ¥0  ...   Nawate Cafe 1   \n",
       "2              ¥0  ¥22  ¥0              ¥0  ...   Nawate Cafe 1   \n",
       "3              ¥0  ¥83  ¥0              ¥0  ...   Nawate Cafe 1   \n",
       "4              ¥0  ¥88  ¥0              ¥0  ...   Nawate Cafe 1   \n",
       "\n",
       "                     Deposit ID Deposit Date  \\\n",
       "0  3ZFJ7M38AYNC8YN188BY12E74TQH     03/05/20   \n",
       "1  3ZFJ7M38AYNC8YN188BY12E74TQH     03/05/20   \n",
       "2                           NaN          NaN   \n",
       "3                           NaN          NaN   \n",
       "4                           NaN          NaN   \n",
       "\n",
       "                                     Deposit Details Fee Percentage Rate  \\\n",
       "0  https://squareup.com/dashboard/sales/deposits/...                3.25   \n",
       "1  https://squareup.com/dashboard/sales/deposits/...                3.25   \n",
       "2                                                NaN                 NaN   \n",
       "3                                                NaN                 NaN   \n",
       "4                                                NaN                 NaN   \n",
       "\n",
       "  Fee Fixed Rate Refund Reason E-money Discount Name Transaction Status  \n",
       "0             ¥0           NaN      ¥0           NaN           Complete  \n",
       "1             ¥0           NaN      ¥0           NaN           Complete  \n",
       "2            NaN           NaN      ¥0           NaN           Complete  \n",
       "3            NaN           NaN      ¥0           NaN           Complete  \n",
       "4            NaN           NaN      ¥0           NaN           Complete  \n",
       "\n",
       "[5 rows x 46 columns]"
      ]
     },
     "execution_count": 4,
     "metadata": {},
     "output_type": "execute_result"
    }
   ],
   "source": [
    "df.head()"
   ]
  },
  {
   "cell_type": "code",
   "execution_count": 5,
   "metadata": {},
   "outputs": [],
   "source": [
    "# Time Optional column of time for future use\n",
    "#df = df[['Date', 'Time', 'Total Collected']]"
   ]
  },
  {
   "cell_type": "code",
   "execution_count": 6,
   "metadata": {},
   "outputs": [],
   "source": [
    "df = df[['Date', 'Total Collected']]"
   ]
  },
  {
   "cell_type": "code",
   "execution_count": 7,
   "metadata": {},
   "outputs": [
    {
     "name": "stdout",
     "output_type": "stream",
     "text": [
      "<class 'pandas.core.frame.DataFrame'>\n",
      "RangeIndex: 8274 entries, 0 to 8273\n",
      "Data columns (total 2 columns):\n",
      " #   Column           Non-Null Count  Dtype \n",
      "---  ------           --------------  ----- \n",
      " 0   Date             8274 non-null   object\n",
      " 1   Total Collected  8274 non-null   object\n",
      "dtypes: object(2)\n",
      "memory usage: 129.4+ KB\n"
     ]
    }
   ],
   "source": [
    "df.info()"
   ]
  },
  {
   "cell_type": "code",
   "execution_count": 8,
   "metadata": {
    "scrolled": true
   },
   "outputs": [],
   "source": [
    "# Cleaning Date\n",
    "df.Date=pd.to_datetime(df.Date)"
   ]
  },
  {
   "cell_type": "code",
   "execution_count": 9,
   "metadata": {},
   "outputs": [],
   "source": [
    "#df['Time'] =  pd.to_datetime(df['Time'], format='%H:%M:%S')"
   ]
  },
  {
   "cell_type": "code",
   "execution_count": 10,
   "metadata": {},
   "outputs": [],
   "source": [
    "# Cleaning Time\n",
    "#df['Time'] = pd.to_timedelta(df['Time'], unit='s')"
   ]
  },
  {
   "cell_type": "code",
   "execution_count": 11,
   "metadata": {},
   "outputs": [],
   "source": [
    "# Cleaning Total Collected\n",
    "df['Total Collected'] = df['Total Collected'].str.replace('¥', '')\n",
    "df['Total Collected'] = df['Total Collected'].str.replace(',', '')\n",
    "df['Total Collected'] = df['Total Collected'].astype(int)"
   ]
  },
  {
   "cell_type": "code",
   "execution_count": 12,
   "metadata": {},
   "outputs": [
    {
     "name": "stdout",
     "output_type": "stream",
     "text": [
      "<class 'pandas.core.frame.DataFrame'>\n",
      "RangeIndex: 8274 entries, 0 to 8273\n",
      "Data columns (total 2 columns):\n",
      " #   Column           Non-Null Count  Dtype         \n",
      "---  ------           --------------  -----         \n",
      " 0   Date             8274 non-null   datetime64[ns]\n",
      " 1   Total Collected  8274 non-null   int64         \n",
      "dtypes: datetime64[ns](1), int64(1)\n",
      "memory usage: 129.4 KB\n"
     ]
    }
   ],
   "source": [
    "df.info()"
   ]
  },
  {
   "cell_type": "code",
   "execution_count": 13,
   "metadata": {},
   "outputs": [
    {
     "data": {
      "text/html": [
       "<div>\n",
       "<style scoped>\n",
       "    .dataframe tbody tr th:only-of-type {\n",
       "        vertical-align: middle;\n",
       "    }\n",
       "\n",
       "    .dataframe tbody tr th {\n",
       "        vertical-align: top;\n",
       "    }\n",
       "\n",
       "    .dataframe thead th {\n",
       "        text-align: right;\n",
       "    }\n",
       "</style>\n",
       "<table border=\"1\" class=\"dataframe\">\n",
       "  <thead>\n",
       "    <tr style=\"text-align: right;\">\n",
       "      <th></th>\n",
       "      <th>Date</th>\n",
       "      <th>Total Collected</th>\n",
       "    </tr>\n",
       "  </thead>\n",
       "  <tbody>\n",
       "    <tr>\n",
       "      <th>0</th>\n",
       "      <td>2020-02-29</td>\n",
       "      <td>801</td>\n",
       "    </tr>\n",
       "    <tr>\n",
       "      <th>1</th>\n",
       "      <td>2020-02-29</td>\n",
       "      <td>523</td>\n",
       "    </tr>\n",
       "    <tr>\n",
       "      <th>2</th>\n",
       "      <td>2020-02-29</td>\n",
       "      <td>298</td>\n",
       "    </tr>\n",
       "    <tr>\n",
       "      <th>3</th>\n",
       "      <td>2020-02-29</td>\n",
       "      <td>1121</td>\n",
       "    </tr>\n",
       "    <tr>\n",
       "      <th>4</th>\n",
       "      <td>2020-02-29</td>\n",
       "      <td>1192</td>\n",
       "    </tr>\n",
       "  </tbody>\n",
       "</table>\n",
       "</div>"
      ],
      "text/plain": [
       "        Date  Total Collected\n",
       "0 2020-02-29              801\n",
       "1 2020-02-29              523\n",
       "2 2020-02-29              298\n",
       "3 2020-02-29             1121\n",
       "4 2020-02-29             1192"
      ]
     },
     "execution_count": 13,
     "metadata": {},
     "output_type": "execute_result"
    }
   ],
   "source": [
    "df.head()"
   ]
  },
  {
   "cell_type": "code",
   "execution_count": 14,
   "metadata": {},
   "outputs": [],
   "source": [
    "# To delete returns \n",
    "df=df.drop(df[df['Total Collected'] < 0].index)"
   ]
  },
  {
   "cell_type": "code",
   "execution_count": 15,
   "metadata": {},
   "outputs": [],
   "source": [
    "# Renaming\n",
    "df.rename(columns={'Total Collected':'Total'}, inplace=True)"
   ]
  },
  {
   "cell_type": "code",
   "execution_count": 16,
   "metadata": {},
   "outputs": [
    {
     "data": {
      "text/plain": [
       "<Figure size 576x576 with 0 Axes>"
      ]
     },
     "metadata": {},
     "output_type": "display_data"
    },
    {
     "data": {
      "image/png": "[encoded data removed]",
      "text/plain": [
       "<Figure size 432x288 with 1 Axes>"
      ]
     },
     "metadata": {
      "needs_background": "light"
     },
     "output_type": "display_data"
    }
   ],
   "source": [
    "# Ploting outliers\n",
    "plt.figure(figsize=(8,8))\n",
    "df.plot.box()\n",
    "plt.title('Outliers')\n",
    "plt.show();"
   ]
  },
  {
   "cell_type": "code",
   "execution_count": 17,
   "metadata": {},
   "outputs": [],
   "source": [
    "#Removing outliers\n",
    "q1=np.percentile(df.Total, 25)\n",
    "q3=np.percentile(df.Total, 75)"
   ]
  },
  {
   "cell_type": "code",
   "execution_count": 18,
   "metadata": {},
   "outputs": [],
   "source": [
    "iqr=q3-q1\n",
    "\n",
    "upper=q3+3*iqr\n",
    "lower=q3-3*iqr"
   ]
  },
  {
   "cell_type": "code",
   "execution_count": 19,
   "metadata": {},
   "outputs": [
    {
     "data": {
      "text/plain": [
       "0"
      ]
     },
     "execution_count": 19,
     "metadata": {},
     "output_type": "execute_result"
    }
   ],
   "source": [
    "len(df[df.Total < lower])"
   ]
  },
  {
   "cell_type": "code",
   "execution_count": 20,
   "metadata": {},
   "outputs": [
    {
     "data": {
      "text/plain": [
       "(8120, 2)"
      ]
     },
     "execution_count": 20,
     "metadata": {},
     "output_type": "execute_result"
    }
   ],
   "source": [
    "df_outliers=df[df.Total < upper]\n",
    "df_outliers.shape"
   ]
  },
  {
   "cell_type": "code",
   "execution_count": 21,
   "metadata": {},
   "outputs": [
    {
     "data": {
      "text/plain": [
       "<Figure size 576x576 with 0 Axes>"
      ]
     },
     "metadata": {},
     "output_type": "display_data"
    },
    {
     "data": {
      "image/png": "[encoded data removed]",
      "text/plain": [
       "<Figure size 432x288 with 1 Axes>"
      ]
     },
     "metadata": {
      "needs_background": "light"
     },
     "output_type": "display_data"
    }
   ],
   "source": [
    "plt.figure(figsize=(8,8))\n",
    "df_outliers.plot.box()\n",
    "plt.title('Outliers')\n",
    "plt.show();"
   ]
  },
  {
   "cell_type": "code",
   "execution_count": 22,
   "metadata": {},
   "outputs": [],
   "source": [
    "df_20=df_outliers.groupby(['Date']).sum()"
   ]
  },
  {
   "cell_type": "code",
   "execution_count": 23,
   "metadata": {},
   "outputs": [
    {
     "data": {
      "text/html": [
       "<div>\n",
       "<style scoped>\n",
       "    .dataframe tbody tr th:only-of-type {\n",
       "        vertical-align: middle;\n",
       "    }\n",
       "\n",
       "    .dataframe tbody tr th {\n",
       "        vertical-align: top;\n",
       "    }\n",
       "\n",
       "    .dataframe thead th {\n",
       "        text-align: right;\n",
       "    }\n",
       "</style>\n",
       "<table border=\"1\" class=\"dataframe\">\n",
       "  <thead>\n",
       "    <tr style=\"text-align: right;\">\n",
       "      <th></th>\n",
       "      <th>Total</th>\n",
       "    </tr>\n",
       "    <tr>\n",
       "      <th>Date</th>\n",
       "      <th></th>\n",
       "    </tr>\n",
       "  </thead>\n",
       "  <tbody>\n",
       "    <tr>\n",
       "      <th>2020-01-02</th>\n",
       "      <td>338431</td>\n",
       "    </tr>\n",
       "    <tr>\n",
       "      <th>2020-01-03</th>\n",
       "      <td>338876</td>\n",
       "    </tr>\n",
       "    <tr>\n",
       "      <th>2020-01-04</th>\n",
       "      <td>280859</td>\n",
       "    </tr>\n",
       "    <tr>\n",
       "      <th>2020-01-05</th>\n",
       "      <td>221441</td>\n",
       "    </tr>\n",
       "    <tr>\n",
       "      <th>2020-01-06</th>\n",
       "      <td>112667</td>\n",
       "    </tr>\n",
       "  </tbody>\n",
       "</table>\n",
       "</div>"
      ],
      "text/plain": [
       "             Total\n",
       "Date              \n",
       "2020-01-02  338431\n",
       "2020-01-03  338876\n",
       "2020-01-04  280859\n",
       "2020-01-05  221441\n",
       "2020-01-06  112667"
      ]
     },
     "execution_count": 23,
     "metadata": {},
     "output_type": "execute_result"
    }
   ],
   "source": [
    "df_20.head()"
   ]
  },
  {
   "cell_type": "code",
   "execution_count": 24,
   "metadata": {},
   "outputs": [],
   "source": [
    "df_20.to_csv('2020_prophet.csv')"
   ]
  },
  {
   "cell_type": "code",
   "execution_count": null,
   "metadata": {},
   "outputs": [],
   "source": []
  },
  {
   "cell_type": "code",
   "execution_count": null,
   "metadata": {},
   "outputs": [],
   "source": []
  }
 ],
 "metadata": {
  "kernelspec": {
   "display_name": "Python 3",
   "language": "python",
   "name": "python3"
  },
  "language_info": {
   "codemirror_mode": {
    "name": "ipython",
    "version": 3
   },
   "file_extension": ".py",
   "mimetype": "text/x-python",
   "name": "python",
   "nbconvert_exporter": "python",
   "pygments_lexer": "ipython3",
   "version": "3.7.7"
  }
 },
 "nbformat": 4,
 "nbformat_minor": 4
}
